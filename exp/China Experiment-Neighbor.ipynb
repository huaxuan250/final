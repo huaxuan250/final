{
 "cells": [
  {
   "cell_type": "code",
   "execution_count": 1,
   "metadata": {},
   "outputs": [],
   "source": [
    "import pandas as pd\n",
    "import numpy as np\n",
    "from sklearn.neighbors import (\n",
    "    KNeighborsClassifier,\n",
    "    DistanceMetric\n",
    ")\n",
    "import matplotlib.pyplot as plt"
   ]
  },
  {
   "cell_type": "code",
   "execution_count": 2,
   "metadata": {},
   "outputs": [],
   "source": [
    "data = pd.read_excel (r'China.xlsx', header = None, index_col=False)"
   ]
  },
  {
   "cell_type": "code",
   "execution_count": 3,
   "metadata": {},
   "outputs": [],
   "source": [
    "data = data.to_numpy()"
   ]
  },
  {
   "cell_type": "code",
   "execution_count": 4,
   "metadata": {},
   "outputs": [],
   "source": [
    "#Pure number\n",
    "case = []\n",
    "for datum in data:\n",
    "    case.append(datum[1:])\n",
    "case = np.array(case)"
   ]
  },
  {
   "cell_type": "code",
   "execution_count": 5,
   "metadata": {},
   "outputs": [
    {
     "data": {
      "text/plain": [
       "34"
      ]
     },
     "execution_count": 5,
     "metadata": {},
     "output_type": "execute_result"
    }
   ],
   "source": [
    "#province\n",
    "province = []\n",
    "for datum in data:\n",
    "    province.append(datum[0])\n",
    "province = np.array(province)\n",
    "#province = province[:,None]\n",
    "province.size"
   ]
  },
  {
   "cell_type": "code",
   "execution_count": 6,
   "metadata": {},
   "outputs": [],
   "source": [
    "#normalize case\n",
    "sum_of_rows = case.sum(axis = 1)\n",
    "normalized_case = case / sum_of_rows[:,np.newaxis]\n",
    "normalized_case = normalized_case.astype(float)"
   ]
  },
  {
   "cell_type": "code",
   "execution_count": 7,
   "metadata": {},
   "outputs": [
    {
     "data": {
      "text/plain": [
       "array([0.00313554, 0.00397762, 0.00489948, 0.00592742, 0.00731086,\n",
       "       0.00862022, 0.00969287, 0.01093823, 0.01187938, 0.01298885,\n",
       "       0.01390808, 0.0146261 , 0.01528714, 0.02278035, 0.02384906,\n",
       "       0.02465694, 0.02550428, 0.02629639, 0.02703852, 0.0271915 ,\n",
       "       0.02746811, 0.02781528, 0.02809144, 0.02818043, 0.02839917,\n",
       "       0.02857495, 0.02875423, 0.02889363, 0.02907905, 0.02932892,\n",
       "       0.02941483, 0.02946481, 0.02951522, 0.02957396, 0.02962919,\n",
       "       0.02966163, 0.0296796 , 0.02969538, 0.02970283, 0.02970853,\n",
       "       0.02971204, 0.02971423, 0.02971598, 0.02971774])"
      ]
     },
     "execution_count": 7,
     "metadata": {},
     "output_type": "execute_result"
    }
   ],
   "source": [
    "normalized_case[0]"
   ]
  },
  {
   "cell_type": "code",
   "execution_count": 11,
   "metadata": {},
   "outputs": [
    {
     "data": {
      "text/plain": [
       "KNeighborsClassifier(n_neighbors=10)"
      ]
     },
     "execution_count": 11,
     "metadata": {},
     "output_type": "execute_result"
    }
   ],
   "source": [
    "#Train KNN\n",
    "N_NEIGHBORS = 10\n",
    "knn = KNeighborsClassifier(n_neighbors=N_NEIGHBORS, metric='minkowski')\n",
    "knn.fit(normalized_case, province)"
   ]
  },
  {
   "cell_type": "code",
   "execution_count": 12,
   "metadata": {},
   "outputs": [],
   "source": [
    "#check how many\n",
    "mylist= {}\n",
    "_dict = [\"minkowski\",\"euclidean\",\"manhattan\"]\n",
    "for i in range(province.size):\n",
    "    pro = province[i]\n",
    "    mycase = normalized_case[i]\n",
    "    neigh = []\n",
    "    for dick in _dict:\n",
    "        knn = KNeighborsClassifier(n_neighbors=N_NEIGHBORS, metric= dick)\n",
    "        knn.fit(normalized_case, province)\n",
    "        neigh.append(knn.predict([mycase])[0])\n",
    "    mylist[pro] = neigh"
   ]
  },
  {
   "cell_type": "code",
   "execution_count": 13,
   "metadata": {},
   "outputs": [
    {
     "data": {
      "text/plain": [
       "{'Hubei': ['Guizhou', 'Guizhou', 'Guizhou'],\n",
       " 'Guangdong': ['Chongqing', 'Chongqing', 'Chongqing'],\n",
       " 'Henan': ['Anhui', 'Anhui', 'Anhui'],\n",
       " 'Zhejiang': ['Chongqing', 'Chongqing', 'Chongqing'],\n",
       " 'Hunan': ['Chongqing', 'Chongqing', 'Chongqing'],\n",
       " 'Anhui': ['Anhui', 'Anhui', 'Anhui'],\n",
       " 'Jiangxi': ['Anhui', 'Anhui', 'Anhui'],\n",
       " 'Shandong': ['Beijing', 'Beijing', 'Guizhou'],\n",
       " 'Jiangsu': ['Anhui', 'Anhui', 'Anhui'],\n",
       " 'Chongqing': ['Beijing', 'Beijing', 'Beijing'],\n",
       " 'Sichuan': ['Anhui', 'Anhui', 'Anhui'],\n",
       " 'Heilongjiang': ['Guizhou', 'Guizhou', 'Guizhou'],\n",
       " 'Beijing': ['Beijing', 'Beijing', 'Beijing'],\n",
       " 'Shanghai': ['Chongqing', 'Chongqing', 'Chongqing'],\n",
       " 'Hebei': ['Guizhou', 'Guizhou', 'Guizhou'],\n",
       " 'Fujian': ['Chongqing', 'Chongqing', 'Chongqing'],\n",
       " 'Guangxi': ['Beijing', 'Beijing', 'Anhui'],\n",
       " 'Shaanxi': ['Chongqing', 'Chongqing', 'Chongqing'],\n",
       " 'Yunnan': ['Chongqing', 'Chongqing', 'Chongqing'],\n",
       " 'Hainan': ['Anhui', 'Anhui', 'Anhui'],\n",
       " 'Guizhou': ['Anhui', 'Anhui', 'Guizhou'],\n",
       " 'Tianjin': ['Guizhou', 'Guizhou', 'Guizhou'],\n",
       " 'Shanxi': ['Anhui', 'Anhui', 'Chongqing'],\n",
       " 'Liaoning': ['Chongqing', 'Chongqing', 'Chongqing'],\n",
       " 'Hong Kong': ['Gansu', 'Gansu', 'Gansu'],\n",
       " 'Jilin': ['Anhui', 'Anhui', 'Anhui'],\n",
       " 'Gansu': ['Beijing', 'Beijing', 'Beijing'],\n",
       " 'Xinjiang': ['Guizhou', 'Guizhou', 'Guizhou'],\n",
       " 'Inner Mongolia': ['Anhui', 'Anhui', 'Anhui'],\n",
       " 'Ningxia': ['Anhui', 'Anhui', 'Anhui'],\n",
       " 'Taiwan': ['Gansu', 'Gansu', 'Gansu'],\n",
       " 'Qinghai': ['Fujian', 'Fujian', 'Fujian'],\n",
       " 'Macau': ['Fujian', 'Fujian', 'Fujian'],\n",
       " 'Xizang': ['Fujian', 'Fujian', 'Fujian']}"
      ]
     },
     "execution_count": 13,
     "metadata": {},
     "output_type": "execute_result"
    }
   ],
   "source": [
    "mylist"
   ]
  },
  {
   "cell_type": "code",
   "execution_count": 19,
   "metadata": {},
   "outputs": [
    {
     "data": {
      "text/plain": [
       "Text(0, 0.5, 'Cumulative Percentage')"
      ]
     },
     "execution_count": 19,
     "metadata": {},
     "output_type": "execute_result"
    },
    {
     "data": {
      "image/png": "[encoded data removed]",
      "text/plain": [
       "<Figure size 432x288 with 1 Axes>"
      ]
     },
     "metadata": {
      "needs_background": "light"
     },
     "output_type": "display_data"
    }
   ],
   "source": [
    "x = np.linspace(1,44,44)\n",
    "for y in normalized_case:\n",
    "    #if(y.ptp()>0.01): \n",
    "    plt.plot(x,y, alpha = 0.5)\n",
    "plt.xlabel(\"Days\")\n",
    "plt.ylabel(\"Cumulative Percentage\")"
   ]
  },
  {
   "cell_type": "code",
   "execution_count": 20,
   "metadata": {},
   "outputs": [],
   "source": [
    "#Doing linear regression\n",
    "from sklearn.linear_model import LinearRegression\n",
    "LM = LinearRegression()"
   ]
  },
  {
   "cell_type": "code",
   "execution_count": 21,
   "metadata": {},
   "outputs": [],
   "source": [
    "total = case.sum(axis = 0).astype(float)"
   ]
  },
  {
   "cell_type": "code",
   "execution_count": 22,
   "metadata": {},
   "outputs": [],
   "source": [
    "date = x.reshape(-1,1)"
   ]
  },
  {
   "cell_type": "code",
   "execution_count": 23,
   "metadata": {},
   "outputs": [
    {
     "data": {
      "text/plain": [
       "LinearRegression()"
      ]
     },
     "execution_count": 23,
     "metadata": {},
     "output_type": "execute_result"
    }
   ],
   "source": [
    "LM.fit(date,total)"
   ]
  },
  {
   "cell_type": "code",
   "execution_count": 25,
   "metadata": {},
   "outputs": [
    {
     "data": {
      "text/plain": [
       "Text(0, 0.5, 'cumulative cases')"
      ]
     },
     "execution_count": 25,
     "metadata": {},
     "output_type": "execute_result"
    },
    {
     "data": {
      "image/png": "[encoded data removed]",
      "text/plain": [
       "<Figure size 432x288 with 1 Axes>"
      ]
     },
     "metadata": {
      "needs_background": "light"
     },
     "output_type": "display_data"
    }
   ],
   "source": [
    "plt.plot(x,LM.predict(date))\n",
    "plt.plot(x,total)\n",
    "plt.xlabel(\"days\")\n",
    "plt.ylabel(\"cumulative cases\")"
   ]
  },
  {
   "cell_type": "code",
   "execution_count": 26,
   "metadata": {},
   "outputs": [],
   "source": [
    "#doing logistic regression\n",
    "from sklearn.linear_model import LogisticRegression"
   ]
  },
  {
   "cell_type": "code",
   "execution_count": 27,
   "metadata": {},
   "outputs": [],
   "source": [
    "LoR = LogisticRegression()"
   ]
  },
  {
   "cell_type": "code",
   "execution_count": 28,
   "metadata": {},
   "outputs": [
    {
     "name": "stderr",
     "output_type": "stream",
     "text": [
      "C:\\Users\\qq104\\Anaconda3\\lib\\site-packages\\sklearn\\linear_model\\_logistic.py:764: ConvergenceWarning: lbfgs failed to converge (status=1):\n",
      "STOP: TOTAL NO. of ITERATIONS REACHED LIMIT.\n",
      "\n",
      "Increase the number of iterations (max_iter) or scale the data as shown in:\n",
      "    https://scikit-learn.org/stable/modules/preprocessing.html\n",
      "Please also refer to the documentation for alternative solver options:\n",
      "    https://scikit-learn.org/stable/modules/linear_model.html#logistic-regression\n",
      "  extra_warning_msg=_LOGISTIC_SOLVER_CONVERGENCE_MSG)\n"
     ]
    },
    {
     "data": {
      "text/plain": [
       "LogisticRegression()"
      ]
     },
     "execution_count": 28,
     "metadata": {},
     "output_type": "execute_result"
    }
   ],
   "source": [
    "LoR.fit(date,total)"
   ]
  },
  {
   "cell_type": "code",
   "execution_count": 29,
   "metadata": {},
   "outputs": [
    {
     "data": {
      "text/plain": [
       "Text(0, 0.5, 'cumulative cases')"
      ]
     },
     "execution_count": 29,
     "metadata": {},
     "output_type": "execute_result"
    },
    {
     "data": {
      "image/png": "[encoded data removed]",
      "text/plain": [
       "<Figure size 432x288 with 1 Axes>"
      ]
     },
     "metadata": {
      "needs_background": "light"
     },
     "output_type": "display_data"
    }
   ],
   "source": [
    "plt.plot(x,LoR.predict(date))\n",
    "plt.plot(x,total)\n",
    "plt.xlabel(\"days\")\n",
    "plt.ylabel(\"cumulative cases\")"
   ]
  },
  {
   "cell_type": "code",
   "execution_count": 31,
   "metadata": {},
   "outputs": [
    {
     "data": {
      "text/plain": [
       "array([81021.])"
      ]
     },
     "execution_count": 31,
     "metadata": {},
     "output_type": "execute_result"
    }
   ],
   "source": [
    "LoR.predict(np.array([[45]]))"
   ]
  },
  {
   "cell_type": "code",
   "execution_count": 32,
   "metadata": {},
   "outputs": [],
   "source": [
    "newdata = pd.read_excel (r'China.xlsx', 'Sheet2',header = None, index_col=False)"
   ]
  },
  {
   "cell_type": "code",
   "execution_count": 33,
   "metadata": {},
   "outputs": [],
   "source": [
    "newdata = newdata.to_numpy()[0][1:]"
   ]
  },
  {
   "cell_type": "code",
   "execution_count": 34,
   "metadata": {},
   "outputs": [
    {
     "data": {
      "text/plain": [
       "114"
      ]
     },
     "execution_count": 34,
     "metadata": {},
     "output_type": "execute_result"
    }
   ],
   "source": [
    "newdata.astype(float).size"
   ]
  },
  {
   "cell_type": "code",
   "execution_count": 35,
   "metadata": {},
   "outputs": [],
   "source": [
    "newdate = np.linspace(1,114,114).reshape(-1,1)"
   ]
  },
  {
   "cell_type": "code",
   "execution_count": 37,
   "metadata": {},
   "outputs": [
    {
     "data": {
      "text/plain": [
       "Text(0, 0.5, 'cumulative cases')"
      ]
     },
     "execution_count": 37,
     "metadata": {},
     "output_type": "execute_result"
    },
    {
     "data": {
      "image/png": "[encoded data removed]",
      "text/plain": [
       "<Figure size 432x288 with 1 Axes>"
      ]
     },
     "metadata": {
      "needs_background": "light"
     },
     "output_type": "display_data"
    }
   ],
   "source": [
    "plt.plot(newdate,newdata)\n",
    "plt.plot(newdate,LoR.predict(newdate),c=\"red\")\n",
    "plt.xlabel(\"days\")\n",
    "plt.ylabel(\"cumulative cases\")"
   ]
  },
  {
   "cell_type": "code",
   "execution_count": null,
   "metadata": {},
   "outputs": [],
   "source": []
  }
 ],
 "metadata": {
  "kernelspec": {
   "display_name": "Python 3",
   "language": "python",
   "name": "python3"
  },
  "language_info": {
   "codemirror_mode": {
    "name": "ipython",
    "version": 3
   },
   "file_extension": ".py",
   "mimetype": "text/x-python",
   "name": "python",
   "nbconvert_exporter": "python",
   "pygments_lexer": "ipython3",
   "version": "3.7.7"
  }
 },
 "nbformat": 4,
 "nbformat_minor": 4
}
